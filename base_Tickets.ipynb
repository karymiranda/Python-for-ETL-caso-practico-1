{
 "cells": [
  {
   "cell_type": "code",
   "execution_count": null,
   "metadata": {},
   "outputs": [],
   "source": [
    "import polars as pl"
   ]
  },
  {
   "cell_type": "code",
   "execution_count": null,
   "metadata": {},
   "outputs": [],
   "source": [
    "t_historico = pl.read_csv(\"..\\GESTION DE ATENCIONES\\Tickets\\Tickets Historico.txt\", separator=\";\")\n",
    "t_historico = t_historico.select(\n",
    "    pl.col('Numero Ticket').alias('TicketID'),\n",
    "    'Ubicacion',\n",
    "    'Service Desk',\n",
    "    'Estado',\n",
    "    pl.col('Fecha Creacion').str.to_date(),\n",
    "    pl.col('Fecha Termino').str.to_date(),\n",
    "    pl.col('Fecha Cierre').str.to_date()\n",
    ")"
   ]
  },
  {
   "cell_type": "code",
   "execution_count": null,
   "metadata": {},
   "outputs": [],
   "source": [
    "t_actual = pl.read_csv(\"..\\GESTION DE ATENCIONES\\Tickets\\Tickets Actual.csv\",separator=\"|\")\n",
    "t_actual = t_actual.select(\n",
    "    pl.col('Numero Ticket').alias('TicketID'),\n",
    "    'Ubicacion',\n",
    "    'Service Desk',\n",
    "    'Estado',\n",
    "    pl.col('Fecha Creacion').str.to_date(),\n",
    "    pl.col('Fecha Termino').str.to_date(),\n",
    "    pl.col('Fecha Cierre').str.to_date()\n",
    ").filter(pl.col('TicketID').str.starts_with(\"WO\"))"
   ]
  },
  {
   "cell_type": "code",
   "execution_count": null,
   "metadata": {},
   "outputs": [],
   "source": [
    "#Consolidadndo datasets Historico y actual\n",
    "tickets = pl.concat([t_historico, t_actual])"
   ]
  },
  {
   "cell_type": "code",
   "execution_count": null,
   "metadata": {},
   "outputs": [],
   "source": [
    "#Dividir columna Ubicacion\n",
    "\n",
    "tickets = tickets.with_columns(\n",
    "    pl.col(\"Ubicacion\")\n",
    "    .str.split_exact('-',1)\n",
    "    .struct.rename_fields(['Agencia','AgenciaID'])  \n",
    "    .alias('Agencia') \n",
    ").unnest('Agencia')\n"
   ]
  },
  {
   "cell_type": "code",
   "execution_count": null,
   "metadata": {},
   "outputs": [],
   "source": [
    "tickets.head()"
   ]
  },
  {
   "cell_type": "code",
   "execution_count": null,
   "metadata": {},
   "outputs": [],
   "source": [
    "#Castear tipo de dato entero a la columna AgenciaID\n",
    "##tickets = tickets.cast({'AgenciaID': pl.Int64})"
   ]
  },
  {
   "cell_type": "code",
   "execution_count": 32,
   "metadata": {},
   "outputs": [
    {
     "data": {
      "text/plain": [
       "(22215, 9)"
      ]
     },
     "execution_count": 32,
     "metadata": {},
     "output_type": "execute_result"
    }
   ],
   "source": [
    "#Eliminando duplicados\n",
    "tickets.sort(\n",
    "    by=['TicketID','Fecha Creacion']\n",
    ").unique(\n",
    "    subset='TicketID',\n",
    "    keep='last',\n",
    "    maintain_order=True\n",
    ").shape"
   ]
  },
  {
   "cell_type": "code",
   "execution_count": 41,
   "metadata": {},
   "outputs": [],
   "source": [
    "#Creando columna Fecha Real Fint\n",
    "tickets = tickets.with_columns(\n",
    "    pl.when(pl.col('Fecha Termino').is_null())\n",
    "    .then(pl.col('Fecha Cierre'))\n",
    "    .otherwise(pl.col('Fecha Termino'))\n",
    "    .alias('Fecha Real Fin')\n",
    ")"
   ]
  },
  {
   "cell_type": "code",
   "execution_count": 36,
   "metadata": {},
   "outputs": [
    {
     "data": {
      "text/html": [
       "<div><style>\n",
       ".dataframe > thead > tr,\n",
       ".dataframe > tbody > tr {\n",
       "  text-align: right;\n",
       "  white-space: pre-wrap;\n",
       "}\n",
       "</style>\n",
       "<small>shape: (0, 10)</small><table border=\"1\" class=\"dataframe\"><thead><tr><th>TicketID</th><th>Ubicacion</th><th>Service Desk</th><th>Estado</th><th>Fecha Creacion</th><th>Fecha Termino</th><th>Fecha Cierre</th><th>Agencia</th><th>AgenciaID</th><th>Fecha Real Fin</th></tr><tr><td>str</td><td>str</td><td>str</td><td>str</td><td>date</td><td>date</td><td>date</td><td>str</td><td>str</td><td>date</td></tr></thead><tbody></tbody></table></div>"
      ],
      "text/plain": [
       "shape: (0, 10)\n",
       "┌──────────┬───────────┬─────────┬────────┬───┬───────────────┬─────────┬───────────┬──────────────┐\n",
       "│ TicketID ┆ Ubicacion ┆ Service ┆ Estado ┆ … ┆ Fecha Cierre  ┆ Agencia ┆ AgenciaID ┆ Fecha Real   │\n",
       "│ ---      ┆ ---       ┆ Desk    ┆ ---    ┆   ┆ ---           ┆ ---     ┆ ---       ┆ Fin          │\n",
       "│ str      ┆ str       ┆ ---     ┆ str    ┆   ┆ date          ┆ str     ┆ str       ┆ ---          │\n",
       "│          ┆           ┆ str     ┆        ┆   ┆               ┆         ┆           ┆ date         │\n",
       "╞══════════╪═══════════╪═════════╪════════╪═══╪═══════════════╪═════════╪═══════════╪══════════════╡\n",
       "└──────────┴───────────┴─────────┴────────┴───┴───────────────┴─────────┴───────────┴──────────────┘"
      ]
     },
     "execution_count": 36,
     "metadata": {},
     "output_type": "execute_result"
    }
   ],
   "source": [
    "#tickets.filter(pl.col('Fecha Termino').is_null())"
   ]
  },
  {
   "cell_type": "code",
   "execution_count": 42,
   "metadata": {},
   "outputs": [],
   "source": [
    "#Creando columna Dias Cierre\n",
    "tickets = tickets.with_columns(\n",
    "    (pl.col('Fecha Real Fin') - pl.col('Fecha Creacion')).dt.total_days().alias('Dias Cierre')\n",
    ")"
   ]
  },
  {
   "cell_type": "code",
   "execution_count": 44,
   "metadata": {},
   "outputs": [],
   "source": [
    "#Crear columna Grupo Dias\n",
    "tickets = tickets.with_columns(\n",
    "    pl.when(pl.col('Dias Cierre').is_null()).then(None)\n",
    "    .when(pl.col('Dias Cierre') < 3).then(pl.lit('0 a 3 dias'))\n",
    "    .when(pl.col('Dias Cierre') < 7).then(pl.lit('3 a 7 dias'))\n",
    "    .when(pl.col('Dias Cierre') < 15).then(pl.lit('7 a 15 dias'))\n",
    "    .otherwise(pl.lit('+ de 15 dias'))\n",
    "    .alias('Grupo Dias')\n",
    ")\n",
    "tickets"
   ]
  }
 ],
 "metadata": {
  "kernelspec": {
   "display_name": "entorno_virtual",
   "language": "python",
   "name": "python3"
  },
  "language_info": {
   "codemirror_mode": {
    "name": "ipython",
    "version": 3
   },
   "file_extension": ".py",
   "mimetype": "text/x-python",
   "name": "python",
   "nbconvert_exporter": "python",
   "pygments_lexer": "ipython3",
   "version": "3.11.4"
  }
 },
 "nbformat": 4,
 "nbformat_minor": 2
}
