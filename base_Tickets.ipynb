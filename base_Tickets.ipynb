{
 "cells": [
  {
   "cell_type": "code",
   "execution_count": null,
   "metadata": {},
   "outputs": [],
   "source": [
    "import polars as pl"
   ]
  },
  {
   "cell_type": "code",
   "execution_count": null,
   "metadata": {},
   "outputs": [],
   "source": [
    "t_historico = pl.read_csv(\"..\\GESTION DE ATENCIONES\\Tickets\\Tickets Historico.txt\", separator=\";\")\n",
    "t_historico = t_historico.select(\n",
    "    pl.col('Numero Ticket').alias('TicketID'),\n",
    "    'Ubicacion',\n",
    "    'Service Desk',\n",
    "    'Estado',\n",
    "    pl.col('Fecha Creacion').str.to_date(),\n",
    "    pl.col('Fecha Termino').str.to_date(),\n",
    "    pl.col('Fecha Cierre').str.to_date()\n",
    ")"
   ]
  },
  {
   "cell_type": "code",
   "execution_count": null,
   "metadata": {},
   "outputs": [],
   "source": [
    "t_actual = pl.read_csv(\"..\\GESTION DE ATENCIONES\\Tickets\\Tickets Actual.csv\",separator=\"|\")\n",
    "t_actual = t_actual.select(\n",
    "    pl.col('Numero Ticket').alias('TicketID'),\n",
    "    'Ubicacion',\n",
    "    'Service Desk',\n",
    "    'Estado',\n",
    "    pl.col('Fecha Creacion').str.to_date(),\n",
    "    pl.col('Fecha Termino').str.to_date(),\n",
    "    pl.col('Fecha Cierre').str.to_date()\n",
    ").filter(pl.col('TicketID').str.starts_with(\"WO\"))"
   ]
  },
  {
   "cell_type": "code",
   "execution_count": null,
   "metadata": {},
   "outputs": [],
   "source": [
    "#Consolidadndo datasets Historico y actual\n",
    "tickets = pl.concat([t_historico, t_actual])"
   ]
  },
  {
   "cell_type": "code",
   "execution_count": null,
   "metadata": {},
   "outputs": [],
   "source": [
    "#Dividir columna Ubicacion\n",
    "\n",
    "tickets = tickets.with_columns(\n",
    "    pl.col(\"Ubicacion\")\n",
    "    .str.split_exact('-',1)\n",
    "    .struct.rename_fields(['Agencia','AgenciaID'])  \n",
    "    .alias('Agencia') \n",
    ").unnest('Agencia')\n"
   ]
  },
  {
   "cell_type": "code",
   "execution_count": null,
   "metadata": {},
   "outputs": [],
   "source": [
    "tickets.head()"
   ]
  },
  {
   "cell_type": "code",
   "execution_count": null,
   "metadata": {},
   "outputs": [],
   "source": [
    "#Castear tipo de dato entero a la columna AgenciaID\n",
    "##tickets = tickets.cast({'AgenciaID': pl.Int64})"
   ]
  },
  {
   "cell_type": "code",
   "execution_count": 32,
   "metadata": {},
   "outputs": [
    {
     "data": {
      "text/plain": [
       "(22215, 9)"
      ]
     },
     "execution_count": 32,
     "metadata": {},
     "output_type": "execute_result"
    }
   ],
   "source": [
    "#Eliminando duplicados\n",
    "tickets.sort(\n",
    "    by=['TicketID','Fecha Creacion']\n",
    ").unique(\n",
    "    subset='TicketID',\n",
    "    keep='last',\n",
    "    maintain_order=True\n",
    ").shape"
   ]
  },
  {
   "cell_type": "code",
   "execution_count": 33,
   "metadata": {},
   "outputs": [],
   "source": [
    "#Creando columna Fecha Real Fint\n",
    "tickets = tickets.with_columns(\n",
    "    pl.when(pl.col('Fecha Termino').is_null())\n",
    "    .then(pl.col('Fecha Cierre'))\n",
    "    .otherwise(pl.col('Fecha Termino'))\n",
    "    .alias('Fecha Real Fin')\n",
    ")"
   ]
  },
  {
   "cell_type": "code",
   "execution_count": 36,
   "metadata": {},
   "outputs": [
    {
     "data": {
      "text/html": [
       "<div><style>\n",
       ".dataframe > thead > tr,\n",
       ".dataframe > tbody > tr {\n",
       "  text-align: right;\n",
       "  white-space: pre-wrap;\n",
       "}\n",
       "</style>\n",
       "<small>shape: (0, 10)</small><table border=\"1\" class=\"dataframe\"><thead><tr><th>TicketID</th><th>Ubicacion</th><th>Service Desk</th><th>Estado</th><th>Fecha Creacion</th><th>Fecha Termino</th><th>Fecha Cierre</th><th>Agencia</th><th>AgenciaID</th><th>Fecha Real Fin</th></tr><tr><td>str</td><td>str</td><td>str</td><td>str</td><td>date</td><td>date</td><td>date</td><td>str</td><td>str</td><td>date</td></tr></thead><tbody></tbody></table></div>"
      ],
      "text/plain": [
       "shape: (0, 10)\n",
       "┌──────────┬───────────┬─────────┬────────┬───┬───────────────┬─────────┬───────────┬──────────────┐\n",
       "│ TicketID ┆ Ubicacion ┆ Service ┆ Estado ┆ … ┆ Fecha Cierre  ┆ Agencia ┆ AgenciaID ┆ Fecha Real   │\n",
       "│ ---      ┆ ---       ┆ Desk    ┆ ---    ┆   ┆ ---           ┆ ---     ┆ ---       ┆ Fin          │\n",
       "│ str      ┆ str       ┆ ---     ┆ str    ┆   ┆ date          ┆ str     ┆ str       ┆ ---          │\n",
       "│          ┆           ┆ str     ┆        ┆   ┆               ┆         ┆           ┆ date         │\n",
       "╞══════════╪═══════════╪═════════╪════════╪═══╪═══════════════╪═════════╪═══════════╪══════════════╡\n",
       "└──────────┴───────────┴─────────┴────────┴───┴───────────────┴─────────┴───────────┴──────────────┘"
      ]
     },
     "execution_count": 36,
     "metadata": {},
     "output_type": "execute_result"
    }
   ],
   "source": [
    "#tickets.filter(pl.col('Fecha Termino').is_null())"
   ]
  },
  {
   "cell_type": "code",
   "execution_count": 37,
   "metadata": {},
   "outputs": [
    {
     "data": {
      "text/html": [
       "<div><style>\n",
       ".dataframe > thead > tr,\n",
       ".dataframe > tbody > tr {\n",
       "  text-align: right;\n",
       "  white-space: pre-wrap;\n",
       "}\n",
       "</style>\n",
       "<small>shape: (5, 11)</small><table border=\"1\" class=\"dataframe\"><thead><tr><th>TicketID</th><th>Ubicacion</th><th>Service Desk</th><th>Estado</th><th>Fecha Creacion</th><th>Fecha Termino</th><th>Fecha Cierre</th><th>Agencia</th><th>AgenciaID</th><th>Fecha Real Fin</th><th>Dias Cierre</th></tr><tr><td>str</td><td>str</td><td>str</td><td>str</td><td>date</td><td>date</td><td>date</td><td>str</td><td>str</td><td>date</td><td>i64</td></tr></thead><tbody><tr><td>&quot;WO000000412268…</td><td>&quot;AREQUIPA - 215…</td><td>&quot;Zona Norte&quot;</td><td>&quot;Cerrado&quot;</td><td>2022-06-01</td><td>2022-06-14</td><td>2022-06-14</td><td>&quot;AREQUIPA &quot;</td><td>&quot; 215000&quot;</td><td>2022-06-14</td><td>13</td></tr><tr><td>&quot;WO000000412264…</td><td>&quot;METRO AV. WIES…</td><td>&quot;Zona Centro&quot;</td><td>&quot;Cerrado&quot;</td><td>2022-06-01</td><td>2022-06-17</td><td>2022-06-17</td><td>&quot;METRO AV. WIES…</td><td>&quot; 191106&quot;</td><td>2022-06-17</td><td>16</td></tr><tr><td>&quot;WO000000412250…</td><td>&quot;NICOLAS AYLLON…</td><td>&quot;Zona Centro&quot;</td><td>&quot;Cerrado&quot;</td><td>2022-06-01</td><td>2022-06-08</td><td>2022-06-08</td><td>&quot;NICOLAS AYLLON…</td><td>&quot; 191027&quot;</td><td>2022-06-08</td><td>7</td></tr><tr><td>&quot;WO000000412251…</td><td>&quot;JAUREGUI - 405…</td><td>&quot;Zona Norte&quot;</td><td>&quot;Cerrado&quot;</td><td>2022-06-01</td><td>2022-06-18</td><td>2022-06-18</td><td>&quot;JAUREGUI &quot;</td><td>&quot; 405005&quot;</td><td>2022-06-18</td><td>17</td></tr><tr><td>&quot;WO000000412274…</td><td>&quot;CANTO GRANDE -…</td><td>&quot;Zona Centro&quot;</td><td>&quot;Cerrado&quot;</td><td>2022-06-01</td><td>2022-06-08</td><td>2022-06-08</td><td>&quot;CANTO GRANDE &quot;</td><td>&quot; 191096&quot;</td><td>2022-06-08</td><td>7</td></tr></tbody></table></div>"
      ],
      "text/plain": [
       "shape: (5, 11)\n",
       "┌────────────┬────────────┬────────────┬─────────┬───┬────────────┬───────────┬───────────┬────────┐\n",
       "│ TicketID   ┆ Ubicacion  ┆ Service    ┆ Estado  ┆ … ┆ Agencia    ┆ AgenciaID ┆ Fecha     ┆ Dias   │\n",
       "│ ---        ┆ ---        ┆ Desk       ┆ ---     ┆   ┆ ---        ┆ ---       ┆ Real Fin  ┆ Cierre │\n",
       "│ str        ┆ str        ┆ ---        ┆ str     ┆   ┆ str        ┆ str       ┆ ---       ┆ ---    │\n",
       "│            ┆            ┆ str        ┆         ┆   ┆            ┆           ┆ date      ┆ i64    │\n",
       "╞════════════╪════════════╪════════════╪═════════╪═══╪════════════╪═══════════╪═══════════╪════════╡\n",
       "│ WO00000041 ┆ AREQUIPA - ┆ Zona Norte ┆ Cerrado ┆ … ┆ AREQUIPA   ┆  215000   ┆ 2022-06-1 ┆ 13     │\n",
       "│ 22687      ┆ 215000     ┆            ┆         ┆   ┆            ┆           ┆ 4         ┆        │\n",
       "│ WO00000041 ┆ METRO AV.  ┆ Zona       ┆ Cerrado ┆ … ┆ METRO AV.  ┆  191106   ┆ 2022-06-1 ┆ 16     │\n",
       "│ 22649      ┆ WIESSE -   ┆ Centro     ┆         ┆   ┆ WIESSE     ┆           ┆ 7         ┆        │\n",
       "│            ┆ 191106     ┆            ┆         ┆   ┆            ┆           ┆           ┆        │\n",
       "│ WO00000041 ┆ NICOLAS    ┆ Zona       ┆ Cerrado ┆ … ┆ NICOLAS    ┆  191027   ┆ 2022-06-0 ┆ 7      │\n",
       "│ 22502      ┆ AYLLON -   ┆ Centro     ┆         ┆   ┆ AYLLON     ┆           ┆ 8         ┆        │\n",
       "│            ┆ 191027     ┆            ┆         ┆   ┆            ┆           ┆           ┆        │\n",
       "│ WO00000041 ┆ JAUREGUI - ┆ Zona Norte ┆ Cerrado ┆ … ┆ JAUREGUI   ┆  405005   ┆ 2022-06-1 ┆ 17     │\n",
       "│ 22513      ┆ 405005     ┆            ┆         ┆   ┆            ┆           ┆ 8         ┆        │\n",
       "│ WO00000041 ┆ CANTO      ┆ Zona       ┆ Cerrado ┆ … ┆ CANTO      ┆  191096   ┆ 2022-06-0 ┆ 7      │\n",
       "│ 22741      ┆ GRANDE -   ┆ Centro     ┆         ┆   ┆ GRANDE     ┆           ┆ 8         ┆        │\n",
       "│            ┆ 191096     ┆            ┆         ┆   ┆            ┆           ┆           ┆        │\n",
       "└────────────┴────────────┴────────────┴─────────┴───┴────────────┴───────────┴───────────┴────────┘"
      ]
     },
     "execution_count": 37,
     "metadata": {},
     "output_type": "execute_result"
    }
   ],
   "source": [
    "#Creando columna Dias Cierre\n",
    "tickets = tickets.with_columns(\n",
    "    (pl.col('Fecha Real Fin') - pl.col('Fecha Creacion')).dt.total_days().alias('Dias Cierre')\n",
    ")"
   ]
  }
 ],
 "metadata": {
  "kernelspec": {
   "display_name": "entorno_virtual",
   "language": "python",
   "name": "python3"
  },
  "language_info": {
   "codemirror_mode": {
    "name": "ipython",
    "version": 3
   },
   "file_extension": ".py",
   "mimetype": "text/x-python",
   "name": "python",
   "nbconvert_exporter": "python",
   "pygments_lexer": "ipython3",
   "version": "3.11.4"
  }
 },
 "nbformat": 4,
 "nbformat_minor": 2
}
